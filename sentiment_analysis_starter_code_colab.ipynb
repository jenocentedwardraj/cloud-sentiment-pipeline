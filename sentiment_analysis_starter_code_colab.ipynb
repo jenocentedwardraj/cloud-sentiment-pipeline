{
  "cells": [
    {
      "cell_type": "markdown",
      "metadata": {
        "id": "zJcwCcshefqD"
      },
      "source": [
        "# Sentiment Analysis of Customer Feedback - PySpark Starter Code\n",
        "This notebook demonstrates how to process, train, and evaluate a machine learning model for sentiment analysis of customer feedback using PySpark."
      ]
    },
    {
      "cell_type": "code",
      "source": [
        "import sys\n",
        "IN_COLAB = 'google.colab' in sys.modules\n",
        "print(\"Running in Colab:\", IN_COLAB)"
      ],
      "metadata": {
        "colab": {
          "base_uri": "https://localhost:8080/"
        },
        "id": "DCdx5xm4ezzl",
        "outputId": "db91c8c9-b359-4eeb-db35-2268b79d27a9"
      },
      "execution_count": 1,
      "outputs": [
        {
          "output_type": "stream",
          "name": "stdout",
          "text": [
            "Running in Colab: True\n"
          ]
        }
      ]
    },
    {
      "cell_type": "code",
      "source": [
        "!pip install pyspark gcsfs"
      ],
      "metadata": {
        "colab": {
          "base_uri": "https://localhost:8080/"
        },
        "id": "0hQwgqhbeztX",
        "outputId": "01c7bfab-e8be-40c9-fa20-48dbc9ff69cb"
      },
      "execution_count": 2,
      "outputs": [
        {
          "output_type": "stream",
          "name": "stdout",
          "text": [
            "Requirement already satisfied: pyspark in /usr/local/lib/python3.11/dist-packages (3.5.1)\n",
            "Requirement already satisfied: gcsfs in /usr/local/lib/python3.11/dist-packages (2025.3.2)\n",
            "Requirement already satisfied: py4j==0.10.9.7 in /usr/local/lib/python3.11/dist-packages (from pyspark) (0.10.9.7)\n",
            "Requirement already satisfied: aiohttp!=4.0.0a0,!=4.0.0a1 in /usr/local/lib/python3.11/dist-packages (from gcsfs) (3.11.15)\n",
            "Requirement already satisfied: decorator>4.1.2 in /usr/local/lib/python3.11/dist-packages (from gcsfs) (4.4.2)\n",
            "Requirement already satisfied: fsspec==2025.3.2 in /usr/local/lib/python3.11/dist-packages (from gcsfs) (2025.3.2)\n",
            "Requirement already satisfied: google-auth>=1.2 in /usr/local/lib/python3.11/dist-packages (from gcsfs) (2.38.0)\n",
            "Requirement already satisfied: google-auth-oauthlib in /usr/local/lib/python3.11/dist-packages (from gcsfs) (1.2.2)\n",
            "Requirement already satisfied: google-cloud-storage in /usr/local/lib/python3.11/dist-packages (from gcsfs) (2.19.0)\n",
            "Requirement already satisfied: requests in /usr/local/lib/python3.11/dist-packages (from gcsfs) (2.32.3)\n",
            "Requirement already satisfied: aiohappyeyeballs>=2.3.0 in /usr/local/lib/python3.11/dist-packages (from aiohttp!=4.0.0a0,!=4.0.0a1->gcsfs) (2.6.1)\n",
            "Requirement already satisfied: aiosignal>=1.1.2 in /usr/local/lib/python3.11/dist-packages (from aiohttp!=4.0.0a0,!=4.0.0a1->gcsfs) (1.3.2)\n",
            "Requirement already satisfied: attrs>=17.3.0 in /usr/local/lib/python3.11/dist-packages (from aiohttp!=4.0.0a0,!=4.0.0a1->gcsfs) (25.3.0)\n",
            "Requirement already satisfied: frozenlist>=1.1.1 in /usr/local/lib/python3.11/dist-packages (from aiohttp!=4.0.0a0,!=4.0.0a1->gcsfs) (1.7.0)\n",
            "Requirement already satisfied: multidict<7.0,>=4.5 in /usr/local/lib/python3.11/dist-packages (from aiohttp!=4.0.0a0,!=4.0.0a1->gcsfs) (6.4.4)\n",
            "Requirement already satisfied: propcache>=0.2.0 in /usr/local/lib/python3.11/dist-packages (from aiohttp!=4.0.0a0,!=4.0.0a1->gcsfs) (0.3.2)\n",
            "Requirement already satisfied: yarl<2.0,>=1.17.0 in /usr/local/lib/python3.11/dist-packages (from aiohttp!=4.0.0a0,!=4.0.0a1->gcsfs) (1.20.1)\n",
            "Requirement already satisfied: cachetools<6.0,>=2.0.0 in /usr/local/lib/python3.11/dist-packages (from google-auth>=1.2->gcsfs) (5.5.2)\n",
            "Requirement already satisfied: pyasn1-modules>=0.2.1 in /usr/local/lib/python3.11/dist-packages (from google-auth>=1.2->gcsfs) (0.4.2)\n",
            "Requirement already satisfied: rsa<5,>=3.1.4 in /usr/local/lib/python3.11/dist-packages (from google-auth>=1.2->gcsfs) (4.9.1)\n",
            "Requirement already satisfied: requests-oauthlib>=0.7.0 in /usr/local/lib/python3.11/dist-packages (from google-auth-oauthlib->gcsfs) (2.0.0)\n",
            "Requirement already satisfied: google-api-core<3.0.0dev,>=2.15.0 in /usr/local/lib/python3.11/dist-packages (from google-cloud-storage->gcsfs) (2.25.0)\n",
            "Requirement already satisfied: google-cloud-core<3.0dev,>=2.3.0 in /usr/local/lib/python3.11/dist-packages (from google-cloud-storage->gcsfs) (2.4.3)\n",
            "Requirement already satisfied: google-resumable-media>=2.7.2 in /usr/local/lib/python3.11/dist-packages (from google-cloud-storage->gcsfs) (2.7.2)\n",
            "Requirement already satisfied: google-crc32c<2.0dev,>=1.0 in /usr/local/lib/python3.11/dist-packages (from google-cloud-storage->gcsfs) (1.7.1)\n",
            "Requirement already satisfied: charset-normalizer<4,>=2 in /usr/local/lib/python3.11/dist-packages (from requests->gcsfs) (3.4.2)\n",
            "Requirement already satisfied: idna<4,>=2.5 in /usr/local/lib/python3.11/dist-packages (from requests->gcsfs) (3.10)\n",
            "Requirement already satisfied: urllib3<3,>=1.21.1 in /usr/local/lib/python3.11/dist-packages (from requests->gcsfs) (2.4.0)\n",
            "Requirement already satisfied: certifi>=2017.4.17 in /usr/local/lib/python3.11/dist-packages (from requests->gcsfs) (2025.4.26)\n",
            "Requirement already satisfied: googleapis-common-protos<2.0.0,>=1.56.2 in /usr/local/lib/python3.11/dist-packages (from google-api-core<3.0.0dev,>=2.15.0->google-cloud-storage->gcsfs) (1.70.0)\n",
            "Requirement already satisfied: protobuf!=3.20.0,!=3.20.1,!=4.21.0,!=4.21.1,!=4.21.2,!=4.21.3,!=4.21.4,!=4.21.5,<7.0.0,>=3.19.5 in /usr/local/lib/python3.11/dist-packages (from google-api-core<3.0.0dev,>=2.15.0->google-cloud-storage->gcsfs) (5.29.5)\n",
            "Requirement already satisfied: proto-plus<2.0.0,>=1.22.3 in /usr/local/lib/python3.11/dist-packages (from google-api-core<3.0.0dev,>=2.15.0->google-cloud-storage->gcsfs) (1.26.1)\n",
            "Requirement already satisfied: pyasn1<0.7.0,>=0.6.1 in /usr/local/lib/python3.11/dist-packages (from pyasn1-modules>=0.2.1->google-auth>=1.2->gcsfs) (0.6.1)\n",
            "Requirement already satisfied: oauthlib>=3.0.0 in /usr/local/lib/python3.11/dist-packages (from requests-oauthlib>=0.7.0->google-auth-oauthlib->gcsfs) (3.2.2)\n"
          ]
        }
      ]
    },
    {
      "cell_type": "code",
      "source": [
        "from google.colab import auth\n",
        "auth.authenticate_user()"
      ],
      "metadata": {
        "id": "FTnRF_CBezl9"
      },
      "execution_count": 3,
      "outputs": []
    },
    {
      "cell_type": "code",
      "source": [
        "from pyspark.sql import SparkSession\n",
        "\n",
        "spark = SparkSession.builder \\\n",
        "    .appName(\"Sentiment Analysis\") \\\n",
        "    .getOrCreate()"
      ],
      "metadata": {
        "id": "ecspLDbkezeS"
      },
      "execution_count": 4,
      "outputs": []
    },
    {
      "cell_type": "code",
      "source": [
        "import gcsfs\n",
        "\n",
        "bucket_name = \"cis-415-project-jedwardr\"\n",
        "file_name = \"sentiment_small_dataset.csv\"\n",
        "\n",
        "gcs_path = f\"gs://{bucket_name}/{file_name}\"\n",
        "local_path = f\"/content/{file_name}\"\n",
        "\n",
        "# Download file from GCS to local Colab environment\n",
        "fs = gcsfs.GCSFileSystem()\n",
        "with fs.open(gcs_path, 'rb') as f:\n",
        "    with open(local_path, 'wb') as out_file:\n",
        "        out_file.write(f.read())\n",
        "\n",
        "# Load the local CSV file into Spark\n",
        "df = spark.read.csv(local_path, header=True, inferSchema=True)\n",
        "df.show(5)\n",
        "df.printSchema()"
      ],
      "metadata": {
        "colab": {
          "base_uri": "https://localhost:8080/"
        },
        "id": "SvmwjN6_ezVt",
        "outputId": "e4bb97fc-9f6a-42ff-d360-b798f7ec5344"
      },
      "execution_count": 5,
      "outputs": [
        {
          "output_type": "stream",
          "name": "stdout",
          "text": [
            "+---------------+------------------+---------------+-------------+----------------+-------------------+--------------------+-------------------+-------+\n",
            "|Sentiment_Score|     Feedback_Text|Feedback_Length|Response_Time|Customer_Segment|Interaction_Channel|           Survey_ID|         Time_Stamp|Country|\n",
            "+---------------+------------------+---------------+-------------+----------------+-------------------+--------------------+-------------------+-------+\n",
            "|              0|Very slow response|             18|        52.88|        Standard|              Phone|80167546-ff7f-46d...|2024-05-25 17:34:14|    USA|\n",
            "|              2| Loved the support|             17|        15.88|           Basic|              Phone|7f1b3d6a-8e0d-4b7...|2024-05-30 22:08:48|Germany|\n",
            "|              2|Very slow response|             18|        34.02|        Standard|              Phone|be3387a4-1f62-450...|2024-03-13 03:31:09|    USA|\n",
            "|              1|        Quick help|             10|        29.41|           Basic|              Email|0217e97c-6ab4-4a6...|2024-01-25 11:13:16|    USA|\n",
            "|              1| Loved the support|             17|        48.96|           Basic|              Phone|54ebddaf-662d-4ec...|2024-04-26 04:36:41|     UK|\n",
            "+---------------+------------------+---------------+-------------+----------------+-------------------+--------------------+-------------------+-------+\n",
            "only showing top 5 rows\n",
            "\n",
            "root\n",
            " |-- Sentiment_Score: integer (nullable = true)\n",
            " |-- Feedback_Text: string (nullable = true)\n",
            " |-- Feedback_Length: integer (nullable = true)\n",
            " |-- Response_Time: double (nullable = true)\n",
            " |-- Customer_Segment: string (nullable = true)\n",
            " |-- Interaction_Channel: string (nullable = true)\n",
            " |-- Survey_ID: string (nullable = true)\n",
            " |-- Time_Stamp: timestamp (nullable = true)\n",
            " |-- Country: string (nullable = true)\n",
            "\n"
          ]
        }
      ]
    },
    {
      "cell_type": "code",
      "execution_count": 7,
      "metadata": {
        "id": "xcCF-fffefqF"
      },
      "outputs": [],
      "source": [
        "# Import required libraries\n",
        "from pyspark.sql import SparkSession\n",
        "from pyspark.ml.feature import Tokenizer, CountVectorizer, StringIndexer\n",
        "from pyspark.ml import Pipeline\n",
        "from pyspark.ml.classification import LogisticRegression, NaiveBayes\n",
        "from pyspark.ml.evaluation import MulticlassClassificationEvaluator\n",
        "from pyspark.sql.functions import col"
      ]
    },
    {
      "cell_type": "code",
      "execution_count": 8,
      "metadata": {
        "colab": {
          "base_uri": "https://localhost:8080/"
        },
        "id": "Cum-A87AefqH",
        "outputId": "a2821dd7-565b-4113-c805-f0716580e5fc"
      },
      "outputs": [
        {
          "output_type": "stream",
          "name": "stdout",
          "text": [
            "+-------+------------------+------------------+------------------+------------------+----------------+-------------------+--------------------+-------+\n",
            "|summary|   Sentiment_Score|     Feedback_Text|   Feedback_Length|     Response_Time|Customer_Segment|Interaction_Channel|           Survey_ID|Country|\n",
            "+-------+------------------+------------------+------------------+------------------+----------------+-------------------+--------------------+-------+\n",
            "|  count|             50000|             50000|             50000|             49495|           50000|              50000|               50000|  50000|\n",
            "|   mean|           1.30844|              NULL|         119.20576|30.543744014546732|            NULL|               NULL|                NULL|   NULL|\n",
            "| stddev|0.7797672262531541|              NULL|1004.0503902725961|17.076529732445334|            NULL|               NULL|                NULL|   NULL|\n",
            "|    min|                 0|  Agent was polite|                10|               1.0|           Basic|               Chat|00006e06-7078-4ed...| Canada|\n",
            "|    max|                 2|Very slow response|             10000|              60.0|        Standard|              Phone|ffff9d74-66a7-458...|    USA|\n",
            "+-------+------------------+------------------+------------------+------------------+----------------+-------------------+--------------------+-------+\n",
            "\n",
            "+---------------+-------------+---------------+-------------+----------------+-------------------+---------+----------+-------+\n",
            "|Sentiment_Score|Feedback_Text|Feedback_Length|Response_Time|Customer_Segment|Interaction_Channel|Survey_ID|Time_Stamp|Country|\n",
            "+---------------+-------------+---------------+-------------+----------------+-------------------+---------+----------+-------+\n",
            "|          false|        false|          false|        false|           false|              false|    false|     false|  false|\n",
            "|          false|        false|          false|        false|           false|              false|    false|     false|  false|\n",
            "|          false|        false|          false|        false|           false|              false|    false|     false|  false|\n",
            "|          false|        false|          false|        false|           false|              false|    false|     false|  false|\n",
            "|          false|        false|          false|        false|           false|              false|    false|     false|  false|\n",
            "|          false|        false|          false|        false|           false|              false|    false|     false|  false|\n",
            "|          false|        false|          false|        false|           false|              false|    false|     false|  false|\n",
            "|          false|        false|          false|        false|           false|              false|    false|     false|  false|\n",
            "|          false|        false|          false|        false|           false|              false|    false|     false|  false|\n",
            "|          false|        false|          false|        false|           false|              false|    false|     false|  false|\n",
            "|          false|        false|          false|        false|           false|              false|    false|     false|  false|\n",
            "|          false|        false|          false|        false|           false|              false|    false|     false|  false|\n",
            "|          false|        false|          false|         true|           false|              false|    false|     false|  false|\n",
            "|          false|        false|          false|        false|           false|              false|    false|     false|  false|\n",
            "|          false|        false|          false|        false|           false|              false|    false|     false|  false|\n",
            "|          false|        false|          false|        false|           false|              false|    false|     false|  false|\n",
            "|          false|        false|          false|        false|           false|              false|    false|     false|  false|\n",
            "|          false|        false|          false|        false|           false|              false|    false|     false|  false|\n",
            "|          false|        false|          false|        false|           false|              false|    false|     false|  false|\n",
            "|          false|        false|          false|        false|           false|              false|    false|     false|  false|\n",
            "+---------------+-------------+---------------+-------------+----------------+-------------------+---------+----------+-------+\n",
            "only showing top 20 rows\n",
            "\n"
          ]
        }
      ],
      "source": [
        "# Exploratory Data Analysis (EDA)\n",
        "df.describe().show()\n",
        "# Check for missing values\n",
        "df.select([col(c).isNull().alias(c) for c in df.columns]).show()"
      ]
    },
    {
      "cell_type": "code",
      "execution_count": 9,
      "metadata": {
        "id": "DS66yLepefqH"
      },
      "outputs": [],
      "source": [
        "# Data Preprocessing\n",
        "df = df.na.drop()  # Drop rows with null values\n",
        "df = df.withColumn('Sentiment_Score', col('Sentiment_Score').cast('int'))  # Ensure target is int\n",
        "# Tokenizing the 'Feedback_Text' column\n",
        "tokenizer = Tokenizer(inputCol='Feedback_Text', outputCol='words')\n",
        "# Vectorizing the words column\n",
        "vectorizer = CountVectorizer(inputCol='words', outputCol='features')\n",
        "# Indexing the target variable 'Sentiment_Score'\n",
        "indexer = StringIndexer(inputCol='Sentiment_Score', outputCol='label')"
      ]
    },
    {
      "cell_type": "code",
      "execution_count": 10,
      "metadata": {
        "colab": {
          "base_uri": "https://localhost:8080/"
        },
        "id": "UWMI7FAgefqI",
        "outputId": "24a796e2-159d-4fa4-b28d-e8957151699a"
      },
      "outputs": [
        {
          "output_type": "stream",
          "name": "stdout",
          "text": [
            "+---------------+----------------+---------------+-------------+----------------+-------------------+--------------------+-------------------+-------+\n",
            "|Sentiment_Score|   Feedback_Text|Feedback_Length|Response_Time|Customer_Segment|Interaction_Channel|           Survey_ID|         Time_Stamp|Country|\n",
            "+---------------+----------------+---------------+-------------+----------------+-------------------+--------------------+-------------------+-------+\n",
            "|              0|Agent was polite|             16|         1.09|        Standard|               Chat|10a3a255-8afc-4c9...|2024-04-15 10:09:10|  India|\n",
            "|              0|Agent was polite|             16|          1.2|           Basic|              Phone|29c1ef1d-5c45-426...|2024-02-27 06:47:14|    USA|\n",
            "|              0|Agent was polite|             16|         1.24|           Basic|              Email|637e6a3e-85c0-463...|2024-04-10 00:43:09| Canada|\n",
            "|              0|Agent was polite|             16|         1.24|           Basic|              Phone|484abd27-5a65-4ec...|2024-03-13 09:16:39|     UK|\n",
            "|              0|Agent was polite|             16|         1.29|         Premium|              Email|0966fc4d-f54a-403...|2024-01-01 11:35:22|    USA|\n",
            "+---------------+----------------+---------------+-------------+----------------+-------------------+--------------------+-------------------+-------+\n",
            "only showing top 5 rows\n",
            "\n"
          ]
        }
      ],
      "source": [
        "# Train/Test Split\n",
        "train_df, test_df = df.randomSplit([0.8, 0.2], seed=42)\n",
        "train_df.show(5)"
      ]
    },
    {
      "cell_type": "code",
      "execution_count": 11,
      "metadata": {
        "colab": {
          "base_uri": "https://localhost:8080/"
        },
        "id": "jU6-qvQqefqI",
        "outputId": "7d6ca9b5-476c-4ebf-9ec4-3281bd6a15d9"
      },
      "outputs": [
        {
          "output_type": "stream",
          "name": "stdout",
          "text": [
            "+----------------+---------------+----------+\n",
            "|   Feedback_Text|Sentiment_Score|prediction|\n",
            "+----------------+---------------+----------+\n",
            "|Agent was polite|              0|       0.0|\n",
            "|Agent was polite|              0|       0.0|\n",
            "|Agent was polite|              0|       0.0|\n",
            "|Agent was polite|              0|       0.0|\n",
            "|Agent was polite|              0|       0.0|\n",
            "+----------------+---------------+----------+\n",
            "only showing top 5 rows\n",
            "\n"
          ]
        }
      ],
      "source": [
        "# Train Logistic Regression Model\n",
        "lr = LogisticRegression(maxIter=10, regParam=0.01)\n",
        "lr_pipeline = Pipeline(stages=[tokenizer, vectorizer, indexer, lr])\n",
        "\n",
        "lr_model = lr_pipeline.fit(train_df)\n",
        "lr_predictions = lr_model.transform(test_df)\n",
        "\n",
        "lr_predictions.select('Feedback_Text', 'Sentiment_Score', 'prediction').show(5)"
      ]
    },
    {
      "cell_type": "code",
      "execution_count": 12,
      "metadata": {
        "id": "ARpHvBguefqI"
      },
      "outputs": [],
      "source": [
        "# Train Naive Bayes Model\n",
        "nb = NaiveBayes(modelType='multinomial', labelCol='label', featuresCol='features')\n",
        "nb_pipeline = Pipeline(stages=[tokenizer, vectorizer, indexer, nb])\n",
        "\n",
        "nb_model = nb_pipeline.fit(train_df)\n",
        "nb_predictions = nb_model.transform(test_df)"
      ]
    },
    {
      "cell_type": "code",
      "source": [
        "# Model Evaluation (Accuracy + F1)\n",
        "\n",
        "# Accuracy\n",
        "evaluator = MulticlassClassificationEvaluator(labelCol='label', predictionCol='prediction', metricName='accuracy')\n",
        "lr_accuracy = evaluator.evaluate(lr_predictions)\n",
        "nb_accuracy = evaluator.evaluate(nb_predictions)\n",
        "\n",
        "print(f\"Logistic Regression Accuracy: {lr_accuracy:.4f}\")\n",
        "print(f\"Naive Bayes Accuracy: {nb_accuracy:.4f}\")\n",
        "\n",
        "# F1 Score\n",
        "f1_eval = MulticlassClassificationEvaluator(labelCol='label', predictionCol='prediction', metricName='f1')\n",
        "lr_f1 = f1_eval.evaluate(lr_predictions)\n",
        "nb_f1 = f1_eval.evaluate(nb_predictions)\n",
        "\n",
        "print(f\"Logistic Regression F1 Score: {lr_f1:.4f}\")\n",
        "print(f\"Naive Bayes F1 Score: {nb_f1:.4f}\")"
      ],
      "metadata": {
        "colab": {
          "base_uri": "https://localhost:8080/"
        },
        "id": "rmwm2DZ4ibF5",
        "outputId": "0abf372e-c9ae-4c7e-a821-c15573d0f258"
      },
      "execution_count": 13,
      "outputs": [
        {
          "output_type": "stream",
          "name": "stdout",
          "text": [
            "Logistic Regression Accuracy: 0.5113\n",
            "Naive Bayes Accuracy: 0.5113\n",
            "Logistic Regression F1 Score: 0.3460\n",
            "Naive Bayes F1 Score: 0.3460\n"
          ]
        }
      ]
    },
    {
      "cell_type": "markdown",
      "metadata": {
        "id": "ESF6JAx2efqJ"
      },
      "source": [
        "# Next Steps\n",
        "Once the model is validated with the small dataset, you can scale this pipeline to the big dataset using Dataproc."
      ]
    }
  ],
  "metadata": {
    "colab": {
      "provenance": []
    },
    "language_info": {
      "name": "python"
    },
    "kernelspec": {
      "name": "python3",
      "display_name": "Python 3"
    }
  },
  "nbformat": 4,
  "nbformat_minor": 0
}